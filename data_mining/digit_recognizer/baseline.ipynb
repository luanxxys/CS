{
 "cells": [
  {
   "cell_type": "markdown",
   "metadata": {},
   "source": [
    "# 使用 Tensorflow 识别 MNIST"
   ]
  },
  {
   "cell_type": "markdown",
   "metadata": {},
   "source": [
    "## 1. 读入数据\n",
    "\n",
    "MNIST 是一个简单的计算机视觉数据集，它是由一系列手写数字图片组成的.\n",
    "\n",
    "![](images/data_sample.png)\n",
    "\n",
    "在数据集中，每一张图片会有一个标签 label, 表示该张图片上的数字是什么。比如以上图片所对应的标签是：5,0,4,1\n",
    "\n",
    "MNIST 由 70000 张手写数字 (0~9) 图片 (灰度图) 组成，由很多不同的人写成，其中 60000 张是训练集，另外 10000 张是测试集.\n",
    "\n",
    "每张图片的大小是 28 x 28 像素，数字的大小是 20 x 20，位于图片的中心.\n",
    "\n",
    "![](images/data_single.png)\n",
    "\n",
    "MNIST 数据集可以在网站 http://yann.lecun.com/exdb/mnist/ 下载到.\n",
    "\n",
    "一个图片可以被一个 1*784 的向量所表示, 下面将使用这种结构.\n"
   ]
  },
  {
   "cell_type": "code",
   "execution_count": 11,
   "metadata": {},
   "outputs": [
    {
     "name": "stdout",
     "output_type": "stream",
     "text": [
      "Extracting MNIST_data\\train-images-idx3-ubyte.gz\n",
      "Extracting MNIST_data\\train-labels-idx1-ubyte.gz\n",
      "Extracting MNIST_data\\t10k-images-idx3-ubyte.gz\n",
      "Extracting MNIST_data\\t10k-labels-idx1-ubyte.gz\n"
     ]
    }
   ],
   "source": [
    "# 在 TensorFlow 中为封装了一个方法，只需要调用这个方法，程序就会自动去下载和获取数据集\n",
    "\n",
    "from tensorflow.examples.tutorials.mnist import input_data\n",
    "\n",
    "# 下载 (如果没有下载) 和读取 MNIST 的训练集、测试集和验证集\n",
    "# 大小分别为：55000、10000、5000\n",
    "# 经过编码之后，训练集的标签数据就变成了 [55000,10] 的浮点类型数组\n",
    "mnist = input_data.read_data_sets(\"MNIST_data\", one_hot=True)"
   ]
  },
  {
   "cell_type": "markdown",
   "metadata": {},
   "source": [
    "## 2. Tensorflow 实现多分类模型：Softmax Regressions\n",
    "\n",
    "使用 Softmax Regressions 将图片在这 10 个类中进行分类。"
   ]
  },
  {
   "cell_type": "code",
   "execution_count": 2,
   "metadata": {},
   "outputs": [],
   "source": [
    "import tensorflow as tf\n",
    "\n",
    "# 为输入数据 x 创建占位符\n",
    "'''\n",
    "这里的 x 并不是具体的数值，而是一个占位符\n",
    "当 TensorFlow 运行计算的时候，再传入 x 的真实数据\n",
    "我们的输入数据是 n 个 1*784 的向量，可以表示成 2 层的 tensor, 大小是 [None,784]\n",
    "None 表示到时候传输的数据可以任何长度，也就是说可以是任何数量的样本点\n",
    "'''\n",
    "x = tf.placeholder(tf.float32, [None, 784])\n",
    "\n",
    "# 创建一个线性模型，由权重 w，与偏置项 b 组成\n",
    "# w 和 b 是在训练过程中不断改变不断优化的，使用 Variable 来创建\n",
    "# w 的大小是 [784,10], 表示 784 个像素输入点乘以 10 维的向量（10 个类别）\n",
    "W = tf.Variable(tf.zeros([784, 10]))\n",
    "b = tf.Variable(tf.zeros([10]))\n",
    "\n",
    "# 建立 softmax 模型\n",
    "# softmax 函数将 n 个非负的值归一化为 0~1 之间的值，形成一个概率分布\n",
    "y = tf.nn.softmax(tf.matmul(x, W) + b)"
   ]
  },
  {
   "cell_type": "markdown",
   "metadata": {},
   "source": [
    "## 3. 模型训练"
   ]
  },
  {
   "cell_type": "markdown",
   "metadata": {},
   "source": [
    "### 3.1 实现交叉熵函数\n",
    "\n",
    "交叉熵从一定意义上可以度量模型对于真实情况的拟合程度，交叉熵越大，则模型越不拟合，表现力越差。"
   ]
  },
  {
   "cell_type": "code",
   "execution_count": 3,
   "metadata": {},
   "outputs": [],
   "source": [
    "# 为真实的标签添加占位符\n",
    "y_ = tf.placeholder(tf.float32, [None, 10])\n",
    "\n",
    "# 创建交叉熵函数\n",
    "'''\n",
    "tf.log 表示将 y 的每一个元素都做 log 运算；然后将其乘以对应的真实标签的类别 y_中的元素\n",
    "tf.reduce_sum 表示的是将索引为 1 的值进行求和\n",
    "tf.reduce_mean 表示对所有样本的交叉熵求均值\n",
    "'''\n",
    "cross_entropy = tf.reduce_mean(-tf.reduce_sum(y_ * tf.log(y), reduction_indices=[1]))"
   ]
  },
  {
   "cell_type": "markdown",
   "metadata": {},
   "source": [
    "### 3.2 使用 BP 算法优化参数"
   ]
  },
  {
   "cell_type": "code",
   "execution_count": 7,
   "metadata": {},
   "outputs": [],
   "source": [
    "# 使用梯度下降法最小化交叉熵损失，学习率设置为 0.3\n",
    "train_step = tf.train.GradientDescentOptimizer(0.3).minimize(cross_entropy)"
   ]
  },
  {
   "cell_type": "markdown",
   "metadata": {},
   "source": [
    "### 3.3 运行迭代\n",
    "\n",
    "模型训练的 graph 基本已经完成，现在可以初始化变量，创建会话，以进行循环训练。"
   ]
  },
  {
   "cell_type": "code",
   "execution_count": 9,
   "metadata": {},
   "outputs": [],
   "source": [
    "# 创建会话\n",
    "sess = tf.InteractiveSession()\n",
    "\n",
    "# 初始化所有变量\n",
    "tf.global_variables_initializer().run()\n",
    "\n",
    "# 循环1000次训练模型\n",
    "'''\n",
    "在每次循环中，从训练集中获取 100 个样本, 然后运行 train_step 操作，并且给之前的占位符喂入数据\n",
    "应用了随机梯度下降法。直接使用所有样本来做循环迭代的 “梯度下降法” 会大大增加计算的成本\n",
    "而 “随机梯度下降法” 减少了计算量并且也保持了相对一致的准确率\n",
    "'''\n",
    "for _ in range(1000):\n",
    "    \n",
    "  # 获取训练集与标签集，每次获取100个样本\n",
    "  batch_xs, batch_ys = mnist.train.next_batch(100)  \n",
    "    \n",
    "  # 喂数据，训练\n",
    "  sess.run(train_step, feed_dict={x: batch_xs, y_: batch_ys})"
   ]
  },
  {
   "cell_type": "markdown",
   "metadata": {},
   "source": [
    "## 4. 模型评估"
   ]
  },
  {
   "cell_type": "code",
   "execution_count": 10,
   "metadata": {},
   "outputs": [
    {
     "name": "stdout",
     "output_type": "stream",
     "text": [
      "0.9171\n"
     ]
    }
   ],
   "source": [
    "# tf.argmax 返回的是一个 tensor 里在某个维度上最大值的索引（对应某个类别）\n",
    "# tf.equal 返回的是一个布尔类型的列表\n",
    "correct_prediction = tf.equal(tf.argmax(y,1), tf.argmax(y_,1))\n",
    "\n",
    "# 求正确率，只要将布尔类型的列表全部求和再求均值\n",
    "accuracy = tf.reduce_mean(tf.cast(correct_prediction, tf.float32))\n",
    "\n",
    "# 喂入测试数据集，来运行计算测试集上的准确率\n",
    "print(sess.run(accuracy, feed_dict={x: mnist.test.images, y_: mnist.test.labels}))"
   ]
  }
 ],
 "metadata": {
  "kernelspec": {
   "display_name": "Python 3",
   "language": "python",
   "name": "python3"
  },
  "language_info": {
   "codemirror_mode": {
    "name": "ipython",
    "version": 3
   },
   "file_extension": ".py",
   "mimetype": "text/x-python",
   "name": "python",
   "nbconvert_exporter": "python",
   "pygments_lexer": "ipython3",
   "version": "3.6.4"
  }
 },
 "nbformat": 4,
 "nbformat_minor": 2
}
